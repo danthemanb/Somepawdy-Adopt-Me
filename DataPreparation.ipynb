{
 "cells": [
  {
   "cell_type": "code",
   "execution_count": 1,
   "metadata": {},
   "outputs": [],
   "source": [
    "import numpy as np\n",
    "import pandas as pd\n",
    "\n",
    "import torch\n",
    "import torch.nn as nn\n",
    "import torch.optim as optim\n",
    "from torch.autograd import Variable\n",
    "from torch.utils.data import DataLoader\n",
    "from torch.utils.data import sampler\n",
    "\n",
    "import torchvision.datasets as dset\n",
    "import torchvision.transforms as T"
   ]
  },
  {
   "cell_type": "code",
   "execution_count": 2,
   "metadata": {},
   "outputs": [],
   "source": [
    "test = pd.read_csv('Data/test/test.csv', delimiter = ',')\n",
    "train_raw = pd.read_csv('Data/train.csv', delimiter = ',')"
   ]
  },
  {
   "cell_type": "code",
   "execution_count": 3,
   "metadata": {},
   "outputs": [],
   "source": [
    "test = test[['PetID',  'PhotoAmt']]\n",
    "train_raw = train_raw[['PetID',  'PhotoAmt', 'AdoptionSpeed']]\n",
    "train_raw = train_raw.sample(frac=1).reset_index(drop=True)\n",
    "empty_train = train_raw[train_raw.PhotoAmt == 0]\n",
    "full_train = train_raw[train_raw.PhotoAmt > 0]\n",
    "full_train = full_train.sample(frac=1).reset_index(drop=True)"
   ]
  },
  {
   "cell_type": "code",
   "execution_count": 4,
   "metadata": {},
   "outputs": [
    {
     "name": "stdout",
     "output_type": "stream",
     "text": [
      "Empty Size:  (341, 3) \n",
      "Full Size:  (14652, 3) \n",
      "Non-split Size:  (14993, 3)\n"
     ]
    }
   ],
   "source": [
    "print(\"Empty Size: \", empty_train.shape, \"\\nFull Size: \", full_train.shape, \"\\nNon-split Size: \", train_raw.shape)"
   ]
  },
  {
   "cell_type": "code",
   "execution_count": 13,
   "metadata": {},
   "outputs": [
    {
     "name": "stdout",
     "output_type": "stream",
     "text": [
      "train size:  (10000, 3)  validation size:  (4652, 3)\n"
     ]
    }
   ],
   "source": [
    "train = full_train[:10000]\n",
    "train = train.sample(frac=1).reset_index(drop=True)\n",
    "val = full_train[10000:]\n",
    "val = val.sample(frac=1).reset_index(drop=True)\n",
    "print(\"train size: \", train.shape, \" validation size: \", val.shape)"
   ]
  },
  {
   "cell_type": "code",
   "execution_count": 14,
   "metadata": {},
   "outputs": [],
   "source": [
    "def createDF(data):\n",
    "    index = 0\n",
    "    new = pd.DataFrame(columns=['Photo', 'AdoptionSpeed'])\n",
    "    for i in range(data.shape[0]):\n",
    "        for j in range(int(data.loc[i, 'PhotoAmt'])):\n",
    "            pic = data.loc[i, 'PetID'] + '-' + str(j+1) + '.jpg'\n",
    "            speed = data.loc[i, 'AdoptionSpeed']\n",
    "            new.loc[index] = [pic, speed]\n",
    "            index = index + 1\n",
    "    return new"
   ]
  },
  {
   "cell_type": "code",
   "execution_count": 15,
   "metadata": {},
   "outputs": [
    {
     "name": "stdout",
     "output_type": "stream",
     "text": [
      "lol\n"
     ]
    }
   ],
   "source": [
    "print(\"lol\")"
   ]
  },
  {
   "cell_type": "code",
   "execution_count": 16,
   "metadata": {},
   "outputs": [],
   "source": [
    "formatted_full_train = createDF(full_train)\n",
    "# formatted_train = createDF(train)\n",
    "# print(\"Halfway There\")\n",
    "# formatted_val = createDF(val)\n",
    "# print(\"Done\")"
   ]
  },
  {
   "cell_type": "code",
   "execution_count": 17,
   "metadata": {},
   "outputs": [],
   "source": [
    "import csv\n",
    "path = \"formatted_full_train.csv\"\n",
    "full_train_stuff = formatted_full_train.to_csv(r'formatted_full_train.csv', index=False, header=True)\n",
    "\n",
    "# path = \"formatted_train.csv\"\n",
    "# train_stuff = formatted_train.to_csv(r'formatted_train.csv', index=False, header=True)\n",
    "\n",
    "# path = \"formatted_validation.csv\"\n",
    "# val_stuff = formatted_val.to_csv(r'formatted_validation.csv', index=False, header=True)"
   ]
  },
  {
   "cell_type": "code",
   "execution_count": null,
   "metadata": {},
   "outputs": [],
   "source": []
  }
 ],
 "metadata": {
  "kernelspec": {
   "display_name": "Python 3",
   "language": "python",
   "name": "python3"
  },
  "language_info": {
   "codemirror_mode": {
    "name": "ipython",
    "version": 3
   },
   "file_extension": ".py",
   "mimetype": "text/x-python",
   "name": "python",
   "nbconvert_exporter": "python",
   "pygments_lexer": "ipython3",
   "version": "3.7.1"
  }
 },
 "nbformat": 4,
 "nbformat_minor": 2
}
